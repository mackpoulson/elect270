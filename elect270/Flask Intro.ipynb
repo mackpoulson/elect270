{
 "cells": [
  {
   "cell_type": "markdown",
   "metadata": {},
   "source": [
    "# Flask Intro"
   ]
  },
  {
   "cell_type": "raw",
   "metadata": {},
   "source": [
    "first flask application for practice, incorporate a model into this once I have a good grip on how flask works and have created a model"
   ]
  },
  {
   "cell_type": "markdown",
   "metadata": {},
   "source": [
    "the Flask class creates an app object where we set all preferences"
   ]
  },
  {
   "cell_type": "code",
   "execution_count": 1,
   "metadata": {},
   "outputs": [],
   "source": [
    "from flask import Flask, render_template\n",
    "app = Flask(__name__,\n",
    "           template_folder='templates')"
   ]
  },
  {
   "cell_type": "markdown",
   "metadata": {},
   "source": [
    "@app.route('/') is essential, this route function says that this function should be run whenever the page is opened\n",
    "render_template() will look in templates folder and render an html file"
   ]
  },
  {
   "cell_type": "code",
   "execution_count": 2,
   "metadata": {},
   "outputs": [],
   "source": [
    "@app.route('/')\n",
    "def hello():\n",
    "    return render_template('example.html')"
   ]
  },
  {
   "cell_type": "code",
   "execution_count": null,
   "metadata": {},
   "outputs": [],
   "source": []
  }
 ],
 "metadata": {
  "kernelspec": {
   "display_name": "Python 3",
   "language": "python",
   "name": "python3"
  },
  "language_info": {
   "codemirror_mode": {
    "name": "ipython",
    "version": 3
   },
   "file_extension": ".py",
   "mimetype": "text/x-python",
   "name": "python",
   "nbconvert_exporter": "python",
   "pygments_lexer": "ipython3",
   "version": "3.8.1"
  }
 },
 "nbformat": 4,
 "nbformat_minor": 2
}
